{
 "cells": [
  {
   "cell_type": "markdown",
   "id": "083087f9",
   "metadata": {},
   "source": [
    "Import Libraries"
   ]
  },
  {
   "cell_type": "code",
   "execution_count": 1,
   "id": "79b00307",
   "metadata": {
    "ExecuteTime": {
     "end_time": "2024-01-07T05:21:13.113710Z",
     "start_time": "2024-01-07T05:21:07.448041Z"
    }
   },
   "outputs": [],
   "source": [
    "import numpy as np\n",
    "import pandas as pd\n",
    "import matplotlib.pyplot as plt\n",
    "import seaborn as sns\n",
    "import nltk\n",
    "from nltk.corpus import stopwords\n",
    "import string"
   ]
  },
  {
   "cell_type": "markdown",
   "id": "a0864674",
   "metadata": {},
   "source": [
    "Detect if the email is a spam or not using NLP"
   ]
  },
  {
   "cell_type": "code",
   "execution_count": 2,
   "id": "0d7177e4",
   "metadata": {
    "ExecuteTime": {
     "end_time": "2024-01-07T05:21:13.128621Z",
     "start_time": "2024-01-07T05:21:13.116611Z"
    }
   },
   "outputs": [],
   "source": [
    "# SPAM --> 1\n",
    "# HAM ---> 0"
   ]
  },
  {
   "cell_type": "markdown",
   "id": "1ed00289",
   "metadata": {},
   "source": [
    "Load the dataset"
   ]
  },
  {
   "cell_type": "code",
   "execution_count": 3,
   "id": "8beb077e",
   "metadata": {
    "ExecuteTime": {
     "end_time": "2024-01-07T05:21:13.314287Z",
     "start_time": "2024-01-07T05:21:13.128621Z"
    }
   },
   "outputs": [],
   "source": [
    "df = pd.read_csv(\"C:\\\\Users\\\\gagan\\\\ML Projects\\\\Resources\\\\Email Spam Detection with NLP\\\\emails.csv\")"
   ]
  },
  {
   "cell_type": "code",
   "execution_count": 4,
   "id": "b71de9af",
   "metadata": {
    "ExecuteTime": {
     "end_time": "2024-01-07T05:21:13.360599Z",
     "start_time": "2024-01-07T05:21:13.317976Z"
    }
   },
   "outputs": [
    {
     "data": {
      "text/html": [
       "<div>\n",
       "<style scoped>\n",
       "    .dataframe tbody tr th:only-of-type {\n",
       "        vertical-align: middle;\n",
       "    }\n",
       "\n",
       "    .dataframe tbody tr th {\n",
       "        vertical-align: top;\n",
       "    }\n",
       "\n",
       "    .dataframe thead th {\n",
       "        text-align: right;\n",
       "    }\n",
       "</style>\n",
       "<table border=\"1\" class=\"dataframe\">\n",
       "  <thead>\n",
       "    <tr style=\"text-align: right;\">\n",
       "      <th></th>\n",
       "      <th>text</th>\n",
       "      <th>spam</th>\n",
       "    </tr>\n",
       "  </thead>\n",
       "  <tbody>\n",
       "    <tr>\n",
       "      <th>0</th>\n",
       "      <td>Subject: naturally irresistible your corporate...</td>\n",
       "      <td>1</td>\n",
       "    </tr>\n",
       "    <tr>\n",
       "      <th>1</th>\n",
       "      <td>Subject: the stock trading gunslinger  fanny i...</td>\n",
       "      <td>1</td>\n",
       "    </tr>\n",
       "    <tr>\n",
       "      <th>2</th>\n",
       "      <td>Subject: unbelievable new homes made easy  im ...</td>\n",
       "      <td>1</td>\n",
       "    </tr>\n",
       "    <tr>\n",
       "      <th>3</th>\n",
       "      <td>Subject: 4 color printing special  request add...</td>\n",
       "      <td>1</td>\n",
       "    </tr>\n",
       "    <tr>\n",
       "      <th>4</th>\n",
       "      <td>Subject: do not have money , get software cds ...</td>\n",
       "      <td>1</td>\n",
       "    </tr>\n",
       "  </tbody>\n",
       "</table>\n",
       "</div>"
      ],
      "text/plain": [
       "                                                text  spam\n",
       "0  Subject: naturally irresistible your corporate...     1\n",
       "1  Subject: the stock trading gunslinger  fanny i...     1\n",
       "2  Subject: unbelievable new homes made easy  im ...     1\n",
       "3  Subject: 4 color printing special  request add...     1\n",
       "4  Subject: do not have money , get software cds ...     1"
      ]
     },
     "execution_count": 4,
     "metadata": {},
     "output_type": "execute_result"
    }
   ],
   "source": [
    "df.head()"
   ]
  },
  {
   "cell_type": "code",
   "execution_count": 5,
   "id": "11fd71fb",
   "metadata": {
    "ExecuteTime": {
     "end_time": "2024-01-07T05:21:13.403879Z",
     "start_time": "2024-01-07T05:21:13.363487Z"
    }
   },
   "outputs": [
    {
     "name": "stdout",
     "output_type": "stream",
     "text": [
      "<class 'pandas.core.frame.DataFrame'>\n",
      "RangeIndex: 5728 entries, 0 to 5727\n",
      "Data columns (total 2 columns):\n",
      " #   Column  Non-Null Count  Dtype \n",
      "---  ------  --------------  ----- \n",
      " 0   text    5728 non-null   object\n",
      " 1   spam    5728 non-null   int64 \n",
      "dtypes: int64(1), object(1)\n",
      "memory usage: 89.6+ KB\n"
     ]
    }
   ],
   "source": [
    "df.info()"
   ]
  },
  {
   "cell_type": "code",
   "execution_count": 6,
   "id": "678f26d2",
   "metadata": {
    "ExecuteTime": {
     "end_time": "2024-01-07T05:21:13.413528Z",
     "start_time": "2024-01-07T05:21:13.407158Z"
    }
   },
   "outputs": [
    {
     "data": {
      "text/plain": [
       "(5728, 2)"
      ]
     },
     "execution_count": 6,
     "metadata": {},
     "output_type": "execute_result"
    }
   ],
   "source": [
    "df.shape"
   ]
  },
  {
   "cell_type": "code",
   "execution_count": 7,
   "id": "846af74c",
   "metadata": {
    "ExecuteTime": {
     "end_time": "2024-01-07T05:21:13.430590Z",
     "start_time": "2024-01-07T05:21:13.415110Z"
    }
   },
   "outputs": [
    {
     "data": {
      "text/plain": [
       "Index(['text', 'spam'], dtype='object')"
      ]
     },
     "execution_count": 7,
     "metadata": {},
     "output_type": "execute_result"
    }
   ],
   "source": [
    "df.columns"
   ]
  },
  {
   "cell_type": "code",
   "execution_count": 8,
   "id": "d4c62eda",
   "metadata": {
    "ExecuteTime": {
     "end_time": "2024-01-07T05:21:13.478547Z",
     "start_time": "2024-01-07T05:21:13.432958Z"
    }
   },
   "outputs": [],
   "source": [
    "## CHECK FOR DUPLICATES AND REMOVE THEM\n",
    "df = df.drop_duplicates()"
   ]
  },
  {
   "cell_type": "code",
   "execution_count": 9,
   "id": "33cdc1da",
   "metadata": {
    "ExecuteTime": {
     "end_time": "2024-01-07T05:21:13.497046Z",
     "start_time": "2024-01-07T05:21:13.481531Z"
    }
   },
   "outputs": [
    {
     "data": {
      "text/plain": [
       "(5695, 2)"
      ]
     },
     "execution_count": 9,
     "metadata": {},
     "output_type": "execute_result"
    }
   ],
   "source": [
    "df.shape"
   ]
  },
  {
   "cell_type": "code",
   "execution_count": 10,
   "id": "93402619",
   "metadata": {
    "ExecuteTime": {
     "end_time": "2024-01-07T05:21:13.514539Z",
     "start_time": "2024-01-07T05:21:13.503461Z"
    }
   },
   "outputs": [
    {
     "data": {
      "text/plain": [
       "text    0\n",
       "spam    0\n",
       "dtype: int64"
      ]
     },
     "execution_count": 10,
     "metadata": {},
     "output_type": "execute_result"
    }
   ],
   "source": [
    "df.isna().sum()"
   ]
  },
  {
   "cell_type": "code",
   "execution_count": 11,
   "id": "fcb2050f",
   "metadata": {
    "ExecuteTime": {
     "end_time": "2024-01-07T05:21:13.530296Z",
     "start_time": "2024-01-07T05:21:13.516405Z"
    }
   },
   "outputs": [
    {
     "data": {
      "text/plain": [
       "0    4327\n",
       "1    1368\n",
       "Name: spam, dtype: int64"
      ]
     },
     "execution_count": 11,
     "metadata": {},
     "output_type": "execute_result"
    }
   ],
   "source": [
    "df['spam'].value_counts()"
   ]
  },
  {
   "cell_type": "code",
   "execution_count": 12,
   "id": "2aa7f14c",
   "metadata": {
    "ExecuteTime": {
     "end_time": "2024-01-07T05:21:13.549720Z",
     "start_time": "2024-01-07T05:21:13.532560Z"
    }
   },
   "outputs": [],
   "source": [
    "def process(text):\n",
    "    no_punctuations = [char for char in text if char not in string.punctuation]\n",
    "    no_punctuations = ''.join(no_punctuations)\n",
    "    \n",
    "    clean = [word for word in no_punctuations.split() if word.lower() not in stopwords.words('english') ]\n",
    "    return clean"
   ]
  },
  {
   "cell_type": "code",
   "execution_count": 13,
   "id": "2771e1cf",
   "metadata": {
    "ExecuteTime": {
     "end_time": "2024-01-07T05:21:13.760286Z",
     "start_time": "2024-01-07T05:21:13.550233Z"
    }
   },
   "outputs": [
    {
     "data": {
      "text/plain": [
       "0    [Subject, naturally, irresistible, corporate, ...\n",
       "1    [Subject, stock, trading, gunslinger, fanny, m...\n",
       "2    [Subject, unbelievable, new, homes, made, easy...\n",
       "3    [Subject, 4, color, printing, special, request...\n",
       "4    [Subject, money, get, software, cds, software,...\n",
       "Name: text, dtype: object"
      ]
     },
     "execution_count": 13,
     "metadata": {},
     "output_type": "execute_result"
    }
   ],
   "source": [
    "df['text'].head().apply(process)"
   ]
  },
  {
   "cell_type": "code",
   "execution_count": 14,
   "id": "0e7204a0",
   "metadata": {
    "ExecuteTime": {
     "end_time": "2024-01-07T05:27:02.187281Z",
     "start_time": "2024-01-07T05:21:13.763522Z"
    }
   },
   "outputs": [],
   "source": [
    "# Convert the text into Matrix of Token Counts\n",
    "\n",
    "from sklearn.feature_extraction.text import CountVectorizer\n",
    "X = df['text']\n",
    "messages = CountVectorizer(analyzer=process).fit_transform(X)"
   ]
  },
  {
   "cell_type": "code",
   "execution_count": 15,
   "id": "16f2fe9b",
   "metadata": {
    "ExecuteTime": {
     "end_time": "2024-01-07T05:27:02.211185Z",
     "start_time": "2024-01-07T05:27:02.187281Z"
    }
   },
   "outputs": [
    {
     "data": {
      "text/plain": [
       "<5695x37229 sparse matrix of type '<class 'numpy.int64'>'\n",
       "\twith 562930 stored elements in Compressed Sparse Row format>"
      ]
     },
     "execution_count": 15,
     "metadata": {},
     "output_type": "execute_result"
    }
   ],
   "source": [
    "messages"
   ]
  },
  {
   "cell_type": "code",
   "execution_count": 16,
   "id": "df54a039",
   "metadata": {
    "ExecuteTime": {
     "end_time": "2024-01-07T05:27:02.227289Z",
     "start_time": "2024-01-07T05:27:02.214026Z"
    }
   },
   "outputs": [],
   "source": [
    "y = df['spam']"
   ]
  },
  {
   "cell_type": "code",
   "execution_count": 21,
   "id": "2c1a1503",
   "metadata": {
    "ExecuteTime": {
     "end_time": "2024-01-07T05:30:00.713128Z",
     "start_time": "2024-01-07T05:30:00.672287Z"
    }
   },
   "outputs": [],
   "source": [
    "from sklearn.model_selection import train_test_split\n",
    "X_train, X_test, y_train, y_test = train_test_split(messages, y, test_size=0.2, random_state=0)"
   ]
  },
  {
   "cell_type": "code",
   "execution_count": 22,
   "id": "a732365c",
   "metadata": {
    "ExecuteTime": {
     "end_time": "2024-01-07T05:30:02.303261Z",
     "start_time": "2024-01-07T05:30:02.254803Z"
    }
   },
   "outputs": [],
   "source": [
    "# Create and train Navie Bayes's Classifier\n",
    "from sklearn.naive_bayes import MultinomialNB\n",
    "nb_model = MultinomialNB().fit(X_train,y_train)"
   ]
  },
  {
   "cell_type": "code",
   "execution_count": 23,
   "id": "2c3b75ae",
   "metadata": {
    "ExecuteTime": {
     "end_time": "2024-01-07T05:31:43.121465Z",
     "start_time": "2024-01-07T05:31:43.098748Z"
    }
   },
   "outputs": [],
   "source": []
  },
  {
   "cell_type": "code",
   "execution_count": 27,
   "id": "453b49f9",
   "metadata": {
    "ExecuteTime": {
     "end_time": "2024-01-07T05:36:34.486343Z",
     "start_time": "2024-01-07T05:36:34.474182Z"
    }
   },
   "outputs": [],
   "source": [
    "from sklearn.metrics import classification_report,confusion_matrix,accuracy_score"
   ]
  },
  {
   "cell_type": "code",
   "execution_count": 30,
   "id": "941eb635",
   "metadata": {
    "ExecuteTime": {
     "end_time": "2024-01-07T05:38:08.204412Z",
     "start_time": "2024-01-07T05:38:08.172922Z"
    }
   },
   "outputs": [
    {
     "name": "stdout",
     "output_type": "stream",
     "text": [
      "              precision    recall  f1-score   support\n",
      "\n",
      "           0       1.00      1.00      1.00      3457\n",
      "           1       0.99      1.00      0.99      1099\n",
      "\n",
      "    accuracy                           1.00      4556\n",
      "   macro avg       0.99      1.00      1.00      4556\n",
      "weighted avg       1.00      1.00      1.00      4556\n",
      "\n",
      "Confusion Matrix: \n",
      " [[3445   12]\n",
      " [   1 1098]]\n",
      "Accuracy: \n",
      " 0.9971466198419666\n"
     ]
    }
   ],
   "source": [
    "# Evaluating model on training dataset\n",
    "train_pred = nb_model.predict(X_train)\n",
    "print(classification_report(y_train,train_pred))\n",
    "print(\"Confusion Matrix: \\n\",confusion_matrix(y_train,train_pred))\n",
    "print(\"Accuracy: \\n\",accuracy_score(y_train,train_pred))"
   ]
  },
  {
   "cell_type": "code",
   "execution_count": 31,
   "id": "af026f75",
   "metadata": {
    "ExecuteTime": {
     "end_time": "2024-01-07T05:38:50.001683Z",
     "start_time": "2024-01-07T05:38:49.972782Z"
    }
   },
   "outputs": [
    {
     "name": "stdout",
     "output_type": "stream",
     "text": [
      "              precision    recall  f1-score   support\n",
      "\n",
      "           0       1.00      0.99      0.99       870\n",
      "           1       0.97      1.00      0.98       269\n",
      "\n",
      "    accuracy                           0.99      1139\n",
      "   macro avg       0.98      0.99      0.99      1139\n",
      "weighted avg       0.99      0.99      0.99      1139\n",
      "\n",
      "Confusion Matrix: \n",
      " [[862   8]\n",
      " [  1 268]]\n",
      "Accuracy: \n",
      " 0.9920983318700615\n"
     ]
    }
   ],
   "source": [
    "# Evaluating the model on test dataset\n",
    "pred = nb_model.predict(X_test)\n",
    "print(classification_report(y_test,pred))\n",
    "print(\"Confusion Matrix: \\n\",confusion_matrix(y_test,pred))\n",
    "print(\"Accuracy: \\n\",accuracy_score(y_test,pred))"
   ]
  },
  {
   "cell_type": "code",
   "execution_count": null,
   "id": "e8839a3e",
   "metadata": {},
   "outputs": [],
   "source": []
  }
 ],
 "metadata": {
  "kernelspec": {
   "display_name": "Python 3 (ipykernel)",
   "language": "python",
   "name": "python3"
  },
  "language_info": {
   "codemirror_mode": {
    "name": "ipython",
    "version": 3
   },
   "file_extension": ".py",
   "mimetype": "text/x-python",
   "name": "python",
   "nbconvert_exporter": "python",
   "pygments_lexer": "ipython3",
   "version": "3.9.13"
  },
  "toc": {
   "base_numbering": 1,
   "nav_menu": {},
   "number_sections": true,
   "sideBar": true,
   "skip_h1_title": false,
   "title_cell": "Table of Contents",
   "title_sidebar": "Contents",
   "toc_cell": false,
   "toc_position": {},
   "toc_section_display": true,
   "toc_window_display": false
  },
  "varInspector": {
   "cols": {
    "lenName": 16,
    "lenType": 16,
    "lenVar": 40
   },
   "kernels_config": {
    "python": {
     "delete_cmd_postfix": "",
     "delete_cmd_prefix": "del ",
     "library": "var_list.py",
     "varRefreshCmd": "print(var_dic_list())"
    },
    "r": {
     "delete_cmd_postfix": ") ",
     "delete_cmd_prefix": "rm(",
     "library": "var_list.r",
     "varRefreshCmd": "cat(var_dic_list()) "
    }
   },
   "types_to_exclude": [
    "module",
    "function",
    "builtin_function_or_method",
    "instance",
    "_Feature"
   ],
   "window_display": false
  }
 },
 "nbformat": 4,
 "nbformat_minor": 5
}
